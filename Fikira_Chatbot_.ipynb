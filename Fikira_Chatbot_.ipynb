{
  "nbformat": 4,
  "nbformat_minor": 0,
  "metadata": {
    "colab": {
      "provenance": []
    },
    "kernelspec": {
      "name": "python3",
      "display_name": "Python 3"
    },
    "language_info": {
      "name": "python"
    },
    "widgets": {
      "application/vnd.jupyter.widget-state+json": {
        "b1907c1741c444aabf50faa941cf3f6d": {
          "model_module": "@jupyter-widgets/output",
          "model_name": "OutputModel",
          "model_module_version": "1.0.0",
          "state": {
            "_dom_classes": [],
            "_model_module": "@jupyter-widgets/output",
            "_model_module_version": "1.0.0",
            "_model_name": "OutputModel",
            "_view_count": null,
            "_view_module": "@jupyter-widgets/output",
            "_view_module_version": "1.0.0",
            "_view_name": "OutputView",
            "layout": "IPY_MODEL_e18aa1b5179c4c38a927ef0f19e47a89",
            "msg_id": "",
            "outputs": [
              {
                "output_type": "stream",
                "name": "stdout",
                "text": "🟡 You: where can i go to find therap\n"
              },
              {
                "output_type": "stream",
                "name": "stdout",
                "text": "🔵 Fikira: Different kinds of therapy are more effective based on the nature of the mental health condition and/or symptoms and the person who has them (for example, children will benefit from a therapist who specializes in children’s mental health).  However, there are several different types of treatment and therapy that can help. \n"
              },
              {
                "output_type": "stream",
                "name": "stdout",
                "text": "💡 You might also ask:\n"
              },
              {
                "output_type": "stream",
                "name": "stdout",
                "text": "➖ What does it mean to have a mental illness?\n"
              },
              {
                "output_type": "stream",
                "name": "stdout",
                "text": "➖ Who does mental illness affect?\n"
              },
              {
                "output_type": "stream",
                "name": "stdout",
                "text": "➖ What causes mental illness?\n"
              },
              {
                "output_type": "stream",
                "name": "stdout",
                "text": "\n"
              }
            ]
          }
        },
        "16c1773ba12e4f70a998ddc364441ab5": {
          "model_module": "@jupyter-widgets/controls",
          "model_name": "HTMLModel",
          "model_module_version": "1.5.0",
          "state": {
            "_dom_classes": [],
            "_model_module": "@jupyter-widgets/controls",
            "_model_module_version": "1.5.0",
            "_model_name": "HTMLModel",
            "_view_count": null,
            "_view_module": "@jupyter-widgets/controls",
            "_view_module_version": "1.5.0",
            "_view_name": "HTMLView",
            "description": "",
            "description_tooltip": null,
            "layout": "IPY_MODEL_0dbd80165d8e4e92a98ba292824fadfa",
            "placeholder": "​",
            "style": "IPY_MODEL_6b6427d43f0c4855829f8650dddd77cd",
            "value": "<style>body {font-family: Tahoma, sans-serif; font-size: 16px; line-height: 1.6;}</style>"
          }
        },
        "e18aa1b5179c4c38a927ef0f19e47a89": {
          "model_module": "@jupyter-widgets/base",
          "model_name": "LayoutModel",
          "model_module_version": "1.2.0",
          "state": {
            "_model_module": "@jupyter-widgets/base",
            "_model_module_version": "1.2.0",
            "_model_name": "LayoutModel",
            "_view_count": null,
            "_view_module": "@jupyter-widgets/base",
            "_view_module_version": "1.2.0",
            "_view_name": "LayoutView",
            "align_content": null,
            "align_items": null,
            "align_self": null,
            "border": null,
            "bottom": null,
            "display": null,
            "flex": null,
            "flex_flow": null,
            "grid_area": null,
            "grid_auto_columns": null,
            "grid_auto_flow": null,
            "grid_auto_rows": null,
            "grid_column": null,
            "grid_gap": null,
            "grid_row": null,
            "grid_template_areas": null,
            "grid_template_columns": null,
            "grid_template_rows": null,
            "height": null,
            "justify_content": null,
            "justify_items": null,
            "left": null,
            "margin": null,
            "max_height": null,
            "max_width": null,
            "min_height": null,
            "min_width": null,
            "object_fit": null,
            "object_position": null,
            "order": null,
            "overflow": null,
            "overflow_x": null,
            "overflow_y": null,
            "padding": null,
            "right": null,
            "top": null,
            "visibility": null,
            "width": null
          }
        },
        "f3afef3456f64429a24b64e4aba72f96": {
          "model_module": "@jupyter-widgets/controls",
          "model_name": "TextModel",
          "model_module_version": "1.5.0",
          "state": {
            "_dom_classes": [],
            "_model_module": "@jupyter-widgets/controls",
            "_model_module_version": "1.5.0",
            "_model_name": "TextModel",
            "_view_count": null,
            "_view_module": "@jupyter-widgets/controls",
            "_view_module_version": "1.5.0",
            "_view_name": "TextView",
            "continuous_update": true,
            "description": "",
            "description_tooltip": null,
            "disabled": false,
            "layout": "IPY_MODEL_b6693b855bb44a949867d8a5932ac5b9",
            "placeholder": "Type your question here... 📝",
            "style": "IPY_MODEL_444b74d40bba4ef596ebab115fc9b573",
            "value": ""
          }
        },
        "0dbd80165d8e4e92a98ba292824fadfa": {
          "model_module": "@jupyter-widgets/base",
          "model_name": "LayoutModel",
          "model_module_version": "1.2.0",
          "state": {
            "_model_module": "@jupyter-widgets/base",
            "_model_module_version": "1.2.0",
            "_model_name": "LayoutModel",
            "_view_count": null,
            "_view_module": "@jupyter-widgets/base",
            "_view_module_version": "1.2.0",
            "_view_name": "LayoutView",
            "align_content": null,
            "align_items": null,
            "align_self": null,
            "border": null,
            "bottom": null,
            "display": null,
            "flex": null,
            "flex_flow": null,
            "grid_area": null,
            "grid_auto_columns": null,
            "grid_auto_flow": null,
            "grid_auto_rows": null,
            "grid_column": null,
            "grid_gap": null,
            "grid_row": null,
            "grid_template_areas": null,
            "grid_template_columns": null,
            "grid_template_rows": null,
            "height": null,
            "justify_content": null,
            "justify_items": null,
            "left": null,
            "margin": null,
            "max_height": null,
            "max_width": null,
            "min_height": null,
            "min_width": null,
            "object_fit": null,
            "object_position": null,
            "order": null,
            "overflow": null,
            "overflow_x": null,
            "overflow_y": null,
            "padding": null,
            "right": null,
            "top": null,
            "visibility": null,
            "width": null
          }
        },
        "6b6427d43f0c4855829f8650dddd77cd": {
          "model_module": "@jupyter-widgets/controls",
          "model_name": "DescriptionStyleModel",
          "model_module_version": "1.5.0",
          "state": {
            "_model_module": "@jupyter-widgets/controls",
            "_model_module_version": "1.5.0",
            "_model_name": "DescriptionStyleModel",
            "_view_count": null,
            "_view_module": "@jupyter-widgets/base",
            "_view_module_version": "1.2.0",
            "_view_name": "StyleView",
            "description_width": ""
          }
        },
        "b6693b855bb44a949867d8a5932ac5b9": {
          "model_module": "@jupyter-widgets/base",
          "model_name": "LayoutModel",
          "model_module_version": "1.2.0",
          "state": {
            "_model_module": "@jupyter-widgets/base",
            "_model_module_version": "1.2.0",
            "_model_name": "LayoutModel",
            "_view_count": null,
            "_view_module": "@jupyter-widgets/base",
            "_view_module_version": "1.2.0",
            "_view_name": "LayoutView",
            "align_content": null,
            "align_items": null,
            "align_self": null,
            "border": null,
            "bottom": null,
            "display": null,
            "flex": null,
            "flex_flow": null,
            "grid_area": null,
            "grid_auto_columns": null,
            "grid_auto_flow": null,
            "grid_auto_rows": null,
            "grid_column": null,
            "grid_gap": null,
            "grid_row": null,
            "grid_template_areas": null,
            "grid_template_columns": null,
            "grid_template_rows": null,
            "height": null,
            "justify_content": null,
            "justify_items": null,
            "left": null,
            "margin": null,
            "max_height": null,
            "max_width": null,
            "min_height": null,
            "min_width": null,
            "object_fit": null,
            "object_position": null,
            "order": null,
            "overflow": null,
            "overflow_x": null,
            "overflow_y": null,
            "padding": null,
            "right": null,
            "top": null,
            "visibility": null,
            "width": "80%"
          }
        },
        "444b74d40bba4ef596ebab115fc9b573": {
          "model_module": "@jupyter-widgets/controls",
          "model_name": "DescriptionStyleModel",
          "model_module_version": "1.5.0",
          "state": {
            "_model_module": "@jupyter-widgets/controls",
            "_model_module_version": "1.5.0",
            "_model_name": "DescriptionStyleModel",
            "_view_count": null,
            "_view_module": "@jupyter-widgets/base",
            "_view_module_version": "1.2.0",
            "_view_name": "StyleView",
            "description_width": ""
          }
        }
      }
    }
  },
  "cells": [
    {
      "cell_type": "code",
      "source": [
        "import re\n",
        "from nltk.tokenize import word_tokenize\n",
        "from nltk.corpus import stopwords\n",
        "from nltk.stem import WordNetLemmatizer\n",
        "import string\n",
        "import pandas as pd\n",
        "import ipywidgets as widgets\n",
        "from IPython.display import display\n",
        "\n",
        "# Download necessary NLTK resources (no success messages)\n",
        "import nltk\n",
        "nltk.download('punkt', quiet=True)\n",
        "nltk.download('stopwords', quiet=True)\n",
        "nltk.download('wordnet', quiet=True)\n",
        "\n",
        "# Load CSV data\n",
        "def load_faq_data(file_path):\n",
        "    \"\"\"\n",
        "    Load FAQ data from a CSV file and ensure it contains 'Question' and 'Answer' columns.\n",
        "    \"\"\"\n",
        "    try:\n",
        "        df = pd.read_csv(file_path)\n",
        "        if \"Question\" in df.columns and \"Answer\" in df.columns:\n",
        "            faq_questions = df[\"Question\"].tolist()\n",
        "            faq_answers = df[\"Answer\"].tolist()\n",
        "            return faq_questions, faq_answers\n",
        "        else:\n",
        "            raise ValueError(\"CSV file must contain 'Question' and 'Answer' columns.\")\n",
        "    except Exception as e:\n",
        "        print(f\"❌ Error loading data: {e}\")\n",
        "        return [], []\n",
        "\n",
        "# Preprocess sentences to extract keywords\n",
        "def preprocess(sentence):\n",
        "    \"\"\"\n",
        "    Preprocess a sentence by tokenizing, removing stopwords, and lemmatizing.\n",
        "    \"\"\"\n",
        "    words = word_tokenize(sentence)\n",
        "    words = [word.lower() for word in words if word.lower() not in stopwords.words('english') and word not in string.punctuation]\n",
        "    lemmatizer = WordNetLemmatizer()\n",
        "    words = [lemmatizer.lemmatize(word) for word in words]\n",
        "    return words\n",
        "\n",
        "# Keyword-based matching\n",
        "def find_best_match(query, faq_questions):\n",
        "    \"\"\"\n",
        "    Find the FAQ question with the most keywords matching the user's query.\n",
        "    \"\"\"\n",
        "    query_keywords = set(preprocess(query))\n",
        "    best_match_idx = -1\n",
        "    best_match_score = 0\n",
        "\n",
        "    for idx, question in enumerate(faq_questions):\n",
        "        question_keywords = set(preprocess(question))\n",
        "        # Calculate intersection of keywords\n",
        "        score = len(query_keywords & question_keywords)\n",
        "        if score > best_match_score:\n",
        "            best_match_score = score\n",
        "            best_match_idx = idx\n",
        "\n",
        "    return best_match_idx, best_match_score\n",
        "\n",
        "# Generate a response\n",
        "def chatbot(question, faq_questions, faq_answers):\n",
        "    \"\"\"\n",
        "    Generate a response based on the user's question, returning the most relevant FAQ answer\n",
        "    and related suggestions, limited to 3 sentences.\n",
        "    \"\"\"\n",
        "    best_match_idx, best_match_score = find_best_match(question, faq_questions)\n",
        "\n",
        "    if best_match_score > 0:  # If there's any matching keyword\n",
        "        response = faq_answers[best_match_idx]\n",
        "        # Limit the response to 3 sentences\n",
        "        response_sentences = response.split('.')\n",
        "        response = '. '.join(response_sentences[:3]) + ('...' if len(response_sentences) > 3 else '')  # Truncate to 3 sentences\n",
        "        related_questions = [faq_questions[i] for i in range(len(faq_questions)) if i != best_match_idx][:3]\n",
        "        return response, related_questions\n",
        "    else:\n",
        "        return \"🤔 I'm sorry, I couldn't find a suitable answer. Could you please clarify?\", []\n",
        "\n",
        "# Interactive testing using widgets\n",
        "def widget_mode(faq_questions, faq_answers):\n",
        "    \"\"\"\n",
        "    Provide an interactive chatbot experience using Colab widgets.\n",
        "    \"\"\"\n",
        "    print(\"👋 Hi, my name is Fikira! 🤖 How can I assist you today? 😊\")\n",
        "\n",
        "    def on_submit(change):\n",
        "        user_question = input_box.value\n",
        "        response, suggestions = chatbot(user_question, faq_questions, faq_answers)\n",
        "        output_box.append_stdout(f\"🟡 You: {user_question}\\n\")\n",
        "        output_box.append_stdout(f\"🔵 Fikira: {response}\\n\")\n",
        "        if suggestions:\n",
        "            output_box.append_stdout(\"💡 You might also ask:\\n\")\n",
        "            for suggestion in suggestions:\n",
        "                output_box.append_stdout(f\"➖ {suggestion}\\n\")\n",
        "        output_box.append_stdout(\"\\n\")\n",
        "        input_box.value = \"\"\n",
        "\n",
        "    input_box = widgets.Text(placeholder='Type your question here... 📝', layout=widgets.Layout(width='80%', font_size='16px', font_family='Tahoma'))\n",
        "    output_box = widgets.Output()\n",
        "\n",
        "    input_box.on_submit(on_submit)\n",
        "\n",
        "    # Styling the output to make it more readable with Tahoma font and size adjustments\n",
        "    with output_box:\n",
        "        display(widgets.HTML(value=\"<style>body {font-family: Tahoma, sans-serif; font-size: 16px; line-height: 1.6;}</style>\"))\n",
        "\n",
        "    # Make the input field appear at the bottom after every output\n",
        "    display(output_box)\n",
        "    display(input_box)\n",
        "\n",
        "# Main Function\n",
        "faq_questions, faq_answers = load_faq_data(\"Mental_Health_FAQ.csv\")\n",
        "if faq_questions and faq_answers:\n",
        "    widget_mode(faq_questions, faq_answers)\n",
        "else:\n",
        "    print(\"⚠️ Failed to load FAQ data.\")\n"
      ],
      "metadata": {
        "colab": {
          "base_uri": "https://localhost:8080/",
          "height": 205,
          "referenced_widgets": [
            "b1907c1741c444aabf50faa941cf3f6d",
            "16c1773ba12e4f70a998ddc364441ab5",
            "e18aa1b5179c4c38a927ef0f19e47a89",
            "f3afef3456f64429a24b64e4aba72f96",
            "0dbd80165d8e4e92a98ba292824fadfa",
            "6b6427d43f0c4855829f8650dddd77cd",
            "b6693b855bb44a949867d8a5932ac5b9",
            "444b74d40bba4ef596ebab115fc9b573"
          ]
        },
        "id": "i1CqMVIzUFCW",
        "outputId": "801140ea-12ba-4e0b-de4c-05bdfab83cb1"
      },
      "execution_count": 50,
      "outputs": [
        {
          "output_type": "stream",
          "name": "stdout",
          "text": [
            "👋 Hi, my name is Fikira! 🤖 How can I assist you today? 😊\n"
          ]
        },
        {
          "output_type": "display_data",
          "data": {
            "text/plain": [
              "Output()"
            ],
            "application/vnd.jupyter.widget-view+json": {
              "version_major": 2,
              "version_minor": 0,
              "model_id": "b1907c1741c444aabf50faa941cf3f6d"
            }
          },
          "metadata": {}
        },
        {
          "output_type": "display_data",
          "data": {
            "text/plain": [
              "Text(value='', layout=Layout(width='80%'), placeholder='Type your question here... 📝')"
            ],
            "application/vnd.jupyter.widget-view+json": {
              "version_major": 2,
              "version_minor": 0,
              "model_id": "f3afef3456f64429a24b64e4aba72f96"
            }
          },
          "metadata": {}
        }
      ]
    },
    {
      "cell_type": "code",
      "source": [],
      "metadata": {
        "id": "s69A3U6bUvBT"
      },
      "execution_count": null,
      "outputs": []
    }
  ]
}